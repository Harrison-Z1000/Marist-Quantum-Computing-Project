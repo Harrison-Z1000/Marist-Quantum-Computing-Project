{
 "cells": [
  {
   "cell_type": "markdown",
   "id": "4b02042d-5717-4245-8687-5ccb1c8d6c38",
   "metadata": {
    "tags": []
   },
   "source": [
    "# Brute Force With Honeypot Data\n",
    "\n",
    "This is trivial, just make sure you have columns:\n",
    "  * 'source_ip'\n",
    "  * 'target_ip'\n",
    "  * 'weight'"
   ]
  },
  {
   "cell_type": "code",
   "execution_count": null,
   "id": "87068e17-670e-4c27-809c-47ebf9b9e447",
   "metadata": {},
   "outputs": [],
   "source": [
    "pip install openpyxl"
   ]
  },
  {
   "cell_type": "markdown",
   "id": "9715777b-b22d-42f1-b9fd-2065f85106f2",
   "metadata": {
    "tags": []
   },
   "source": [
    "## Visualize you graph\n",
    "\n",
    "The sample data given is \"dirty.\" Ideally, clean and transform the data. \n",
    "\n",
    "If it's a lot of data, use R, it's way easier.\n",
    "There's plenty of packages, though all you'll probably need is the 'tidyverse'."
   ]
  },
  {
   "cell_type": "code",
   "execution_count": 5,
   "id": "1fedf09e-006c-4888-8fc2-413e625040a9",
   "metadata": {},
   "outputs": [
    {
     "data": {
      "text/plain": [
       "{(93.39698227,\n",
       "  '142.93.3.154:8080'): Text(0.16146918382338205, 0.044849089589799065, '5'),\n",
       " ('142.93.3.154:8080',\n",
       "  95.8685189): Text(0.19887050983304316, 0.03288781807622065, '5'),\n",
       " ('142.93.3.154:8080',\n",
       "  96.41953269): Text(0.1954142633827865, -0.0376006557699918, '5'),\n",
       " ('142.93.3.154:8080',\n",
       "  97.79978407): Text(0.21421872683658505, -0.0033449325818555213, '5'),\n",
       " ('142.93.3.154:8080',\n",
       "  98.71173941): Text(0.12786162260485917, 0.023060261216871356, '5'),\n",
       " ('142.93.3.154:8080',\n",
       "  55.42083274): Text(0.1564034889663245, -0.04526721838397312, '5'),\n",
       " ('142.93.3.154:8080',\n",
       "  57.37545681): Text(0.12599892669333493, -0.01796503513240787, '5'),\n",
       " (55.68147782,\n",
       "  '45.79.67.84:80'): Text(-0.4665198099200084, 0.9208795550130497, '5'),\n",
       " (55.9025185,\n",
       "  '93.179.202.24:41258'): Text(-0.6852972809352524, -0.34842063837268694, '5'),\n",
       " ('93.179.202.24:41258',\n",
       "  57.73618001): Text(-0.6397629749053704, -0.3909203999618437, '5'),\n",
       " (95.25127066,\n",
       "  '43.224.180.214:8080'): Text(0.9417830100381399, 0.6240881214768397, '1'),\n",
       " (93.38780276,\n",
       "  '50.28.48.83:8080'): Text(-0.15379807770722514, -0.9845957981424152, '1')}"
      ]
     },
     "execution_count": 5,
     "metadata": {},
     "output_type": "execute_result"
    },
    {
     "data": {
      "image/png": "[encoded data removed]",
      "text/plain": [
       "<Figure size 432x288 with 1 Axes>"
      ]
     },
     "metadata": {},
     "output_type": "display_data"
    }
   ],
   "source": [
    "import pandas as pd\n",
    "import networkx as nx\n",
    "from networkx import Graph\n",
    "import matplotlib.pyplot as plt\n",
    "\n",
    "# TODO: Change this to whatever filename you uploaded\n",
    "src = 'honey_pot.xlsx'\n",
    "\n",
    "df = pd.read_excel(src)\n",
    "nx_graph = nx.convert_matrix.from_pandas_edgelist(df, 'source_ip', 'destination_ip',  edge_attr='weight')\n",
    "\n",
    "# Some styling\n",
    "default_axes = plt.axes(frameon=True)\n",
    "colors = ['r' for node in nx_graph.nodes()]\n",
    "pos = nx.spring_layout(nx_graph)\n",
    "nx.draw_networkx(nx_graph, node_color=colors, node_size=600, alpha=.8, ax=default_axes, pos=pos)\n",
    "edge_labels = nx.get_edge_attributes(nx_graph, 'weight')\n",
    "nx.draw_networkx_edge_labels(nx_graph, pos=pos, edge_labels=edge_labels)"
   ]
  },
  {
   "cell_type": "markdown",
   "id": "39beac96-6a18-433a-98a9-f7dbe1a844f8",
   "metadata": {
    "tags": []
   },
   "source": [
    "## Create a Matrix\n",
    "\n",
    "This is unecessary, but makes the code a lot more concise"
   ]
  },
  {
   "cell_type": "code",
   "execution_count": 6,
   "id": "65d221ee-1cd9-4a02-9445-2f0f783f4076",
   "metadata": {},
   "outputs": [
    {
     "name": "stdout",
     "output_type": "stream",
     "text": [
      "[[0. 5. 0. 0. 0. 0. 0. 0. 0. 0. 0. 0. 0. 0. 0. 0. 0.]\n",
      " [5. 0. 5. 5. 5. 5. 5. 0. 0. 0. 0. 5. 0. 0. 0. 0. 0.]\n",
      " [0. 5. 0. 0. 0. 0. 0. 0. 0. 0. 0. 0. 0. 0. 0. 0. 0.]\n",
      " [0. 5. 0. 0. 0. 0. 0. 0. 0. 0. 0. 0. 0. 0. 0. 0. 0.]\n",
      " [0. 5. 0. 0. 0. 0. 0. 0. 0. 0. 0. 0. 0. 0. 0. 0. 0.]\n",
      " [0. 5. 0. 0. 0. 0. 0. 0. 0. 0. 0. 0. 0. 0. 0. 0. 0.]\n",
      " [0. 5. 0. 0. 0. 0. 0. 0. 0. 0. 0. 0. 0. 0. 0. 0. 0.]\n",
      " [0. 0. 0. 0. 0. 0. 0. 0. 5. 0. 0. 0. 0. 0. 0. 0. 0.]\n",
      " [0. 0. 0. 0. 0. 0. 0. 5. 0. 0. 0. 0. 0. 0. 0. 0. 0.]\n",
      " [0. 0. 0. 0. 0. 0. 0. 0. 0. 0. 5. 0. 0. 0. 0. 0. 0.]\n",
      " [0. 0. 0. 0. 0. 0. 0. 0. 0. 5. 0. 0. 5. 0. 0. 0. 0.]\n",
      " [0. 5. 0. 0. 0. 0. 0. 0. 0. 0. 0. 0. 0. 0. 0. 0. 0.]\n",
      " [0. 0. 0. 0. 0. 0. 0. 0. 0. 0. 5. 0. 0. 0. 0. 0. 0.]\n",
      " [0. 0. 0. 0. 0. 0. 0. 0. 0. 0. 0. 0. 0. 0. 1. 0. 0.]\n",
      " [0. 0. 0. 0. 0. 0. 0. 0. 0. 0. 0. 0. 0. 1. 0. 0. 0.]\n",
      " [0. 0. 0. 0. 0. 0. 0. 0. 0. 0. 0. 0. 0. 0. 0. 0. 1.]\n",
      " [0. 0. 0. 0. 0. 0. 0. 0. 0. 0. 0. 0. 0. 0. 0. 1. 0.]]\n"
     ]
    }
   ],
   "source": [
    "import numpy as np\n",
    "\n",
    "# Map Nodes to indexes of a list\n",
    "n = nx_graph.number_of_nodes()\n",
    "nodes = list(nx_graph.nodes)\n",
    "\n",
    "# Computing the weight matrix from the random graph\n",
    "w = np.zeros([n,n])\n",
    "for i in range(n):\n",
    "    for j in range(n):\n",
    "        temp = nx_graph.get_edge_data(nodes[i],nodes[j],default=0)\n",
    "        if temp != 0:\n",
    "            w[i,j] = temp['weight']\n",
    "print(w)"
   ]
  },
  {
   "cell_type": "markdown",
   "id": "777f3981-18d9-40aa-a306-adcff3bf1278",
   "metadata": {
    "tags": []
   },
   "source": [
    "### Now You Brute Force\n",
    "\n",
    "__Do not__ run this if there are any disjoint (isolated) Nodes, you'll get an infinite loop.\n",
    "\n",
    "Run at your own risk..."
   ]
  },
  {
   "cell_type": "code",
   "execution_count": 9,
   "id": "9634ba81-3557-4f8f-816c-f7b9dc86e17f",
   "metadata": {},
   "outputs": [],
   "source": [
    "# best_cost_brute = 0\n",
    "# for b in range(2**n):\n",
    "#     x = [int(t) for t in reversed(list(bin(b)[2:].zfill(n)))]\n",
    "#     cost = 0\n",
    "#     for i in range(n):\n",
    "#         for j in range(n):\n",
    "#             cost = cost + w[i,j]*x[i]*(1-x[j])\n",
    "#     if best_cost_brute < cost:\n",
    "#         best_cost_brute = cost\n",
    "#         xbest_brute = x\n",
    "#     print('case = ' + str(x)+ ' cost = ' + str(cost))\n",
    "\n",
    "# colors = ['r' if xbest_brute[i] == 0 else 'c' for i in range(n)]\n",
    "# draw_graph(G, colors, pos)\n",
    "# print('\\nBest solution = ' + str(xbest_brute) + ' cost = ' + str(best_cost_brute))"
   ]
  },
  {
   "cell_type": "markdown",
   "id": "2f1f82db-d224-4f81-87d4-c758ac4a16c9",
   "metadata": {},
   "source": [
    "__All Done__"
   ]
  }
 ],
 "metadata": {
  "kernelspec": {
   "display_name": "Qiskit v0.31.0 (ipykernel)",
   "language": "python",
   "name": "python3"
  },
  "language_info": {
   "codemirror_mode": {
    "name": "ipython",
    "version": 3
   },
   "file_extension": ".py",
   "mimetype": "text/x-python",
   "name": "python",
   "nbconvert_exporter": "python",
   "pygments_lexer": "ipython3",
   "version": "3.8.10"
  },
  "widgets": {
   "application/vnd.jupyter.widget-state+json": {
    "state": {},
    "version_major": 2,
    "version_minor": 0
   }
  }
 },
 "nbformat": 4,
 "nbformat_minor": 5
}
