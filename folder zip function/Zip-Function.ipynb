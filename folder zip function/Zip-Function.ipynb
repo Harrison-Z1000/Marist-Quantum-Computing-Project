{
 "cells": [
  {
   "cell_type": "code",
   "execution_count": 1,
   "id": "52eee50a-7d22-42b3-b5ef-7ea7a97e463c",
   "metadata": {},
   "outputs": [
    {
     "name": "stderr",
     "output_type": "stream",
     "text": [
      "<frozen importlib._bootstrap>:219: RuntimeWarning: scipy._lib.messagestream.MessageStream size changed, may indicate binary incompatibility. Expected 56 from C header, got 64 from PyObject\n"
     ]
    }
   ],
   "source": [
    "import numpy as np\n",
    "\n",
    "# Importing standard Qiskit libraries\n",
    "from qiskit import QuantumCircuit, transpile, Aer, IBMQ\n",
    "from qiskit.tools.jupyter import *\n",
    "from qiskit.visualization import *\n",
    "from ibm_quantum_widgets import *\n",
    "from qiskit.providers.aer import QasmSimulator\n",
    "\n",
    "# Loading your IBM Quantum account(s)\n",
    "provider = IBMQ.load_account()"
   ]
  },
  {
   "cell_type": "code",
   "execution_count": 2,
   "id": "114e7ec2-b6c6-466a-813d-1f4272c8d66e",
   "metadata": {},
   "outputs": [
    {
     "name": "stdout",
     "output_type": "stream",
     "text": [
      "  adding: Max-Cut-Code/ (stored 0%)\n",
      "  adding: Max-Cut-Code/.ipynb_checkpoints/ (stored 0%)\n",
      "  adding: Max-Cut-Code/.ipynb_checkpoints/Graphs-checkpoint.ipynb (deflated 44%)\n",
      "  adding: Max-Cut-Code/.ipynb_checkpoints/algorithm_comparison_200_results-checkpoint.ipynb (deflated 65%)\n",
      "  adding: Max-Cut-Code/.ipynb_checkpoints/testing_code-checkpoint.ipynb (deflated 76%)\n",
      "  adding: Max-Cut-Code/2-100.png (deflated 5%)\n",
      "  adding: Max-Cut-Code/Graphs.ipynb (deflated 44%)\n",
      "  adding: Max-Cut-Code/algorithm_comparison_200_results.ipynb (deflated 74%)\n",
      "  adding: Max-Cut-Code/algorithm_comparison_template.ipynb (deflated 74%)\n",
      "  adding: Max-Cut-Code/brute force/ (stored 0%)\n",
      "  adding: Max-Cut-Code/brute force/.ipynb_checkpoints/ (stored 0%)\n",
      "  adding: Max-Cut-Code/brute force/.ipynb_checkpoints/honey_pot_brute_force-checkpoint.ipynb (deflated 32%)\n",
      "  adding: Max-Cut-Code/brute force/.ipynb_checkpoints/sample2_brute_force-checkpoint.ipynb (deflated 31%)\n",
      "  adding: Max-Cut-Code/brute force/.ipynb_checkpoints/sample_brute_force-checkpoint.ipynb (deflated 30%)\n",
      "  adding: Max-Cut-Code/brute force/honey_pot.xlsx (deflated 27%)\n",
      "  adding: Max-Cut-Code/brute force/honey_pot_brute_force.ipynb (deflated 32%)\n",
      "  adding: Max-Cut-Code/brute force/sample2_brute_force.ipynb (deflated 31%)\n",
      "  adding: Max-Cut-Code/brute force/sample_brute_force.ipynb (deflated 30%)\n",
      "  adding: Max-Cut-Code/numpy eigenoptimizer/ (stored 0%)\n",
      "  adding: Max-Cut-Code/numpy eigenoptimizer/.ipynb_checkpoints/ (stored 0%)\n",
      "  adding: Max-Cut-Code/numpy eigenoptimizer/.ipynb_checkpoints/sample_eigen_optimizer-checkpoint.ipynb (deflated 31%)\n",
      "  adding: Max-Cut-Code/numpy eigenoptimizer/sample_eigen_optimizer.ipynb (deflated 70%)\n",
      "  adding: Max-Cut-Code/planarity test/ (stored 0%)\n",
      "  adding: Max-Cut-Code/planarity test/.ipynb_checkpoints/ (stored 0%)\n",
      "  adding: Max-Cut-Code/planarity test/.ipynb_checkpoints/sample_planarity_test-checkpoint.ipynb (deflated 28%)\n",
      "  adding: Max-Cut-Code/planarity test/sample_planarity_test.ipynb (deflated 28%)\n",
      "  adding: Max-Cut-Code/qaoa/ (stored 0%)\n",
      "  adding: Max-Cut-Code/qaoa/.ipynb_checkpoints/ (stored 0%)\n",
      "  adding: Max-Cut-Code/qaoa/.ipynb_checkpoints/qaoa-checkpoint.ipynb (deflated 66%)\n",
      "  adding: Max-Cut-Code/qaoa/.ipynb_checkpoints/testing_code_with_manual_input-checkpoint.ipynb (deflated 50%)\n",
      "  adding: Max-Cut-Code/qaoa/cycles/ (stored 0%)\n",
      "  adding: Max-Cut-Code/qaoa/cycles/.ipynb_checkpoints/ (stored 0%)\n",
      "  adding: Max-Cut-Code/qaoa/cycles/.ipynb_checkpoints/qaoa_test_4_nodes-checkpoint.ipynb (deflated 87%)\n",
      "  adding: Max-Cut-Code/qaoa/cycles/.ipynb_checkpoints/qaoa_test_8_nodes-checkpoint.ipynb (deflated 86%)\n",
      "  adding: Max-Cut-Code/qaoa/cycles/qaoa_test_4_nodes.ipynb (deflated 73%)\n",
      "  adding: Max-Cut-Code/qaoa/cycles/qaoa_test_8_nodes.ipynb (deflated 85%)\n",
      "  adding: Max-Cut-Code/qaoa/no cycles/ (stored 0%)\n",
      "  adding: Max-Cut-Code/qaoa/no cycles/.ipynb_checkpoints/ (stored 0%)\n",
      "  adding: Max-Cut-Code/qaoa/no cycles/.ipynb_checkpoints/qaoa_test_8_nodes_no_cycle_test-checkpoint.ipynb (deflated 86%)\n",
      "  adding: Max-Cut-Code/qaoa/no cycles/qaoa_4_node_no_cycle_test.ipynb (deflated 76%)\n",
      "  adding: Max-Cut-Code/qaoa/no cycles/qaoa_test_8_nodes_no_cycle_test.ipynb (deflated 86%)\n",
      "  adding: Max-Cut-Code/qaoa/qaoa.ipynb (deflated 65%)\n",
      "  adding: Max-Cut-Code/qaoa/testing_code_with_manual_input.ipynb (deflated 50%)\n",
      "  adding: Max-Cut-Code/readme.md (deflated 51%)\n",
      "  adding: Max-Cut-Code/test outputs/ (stored 0%)\n",
      "  adding: Max-Cut-Code/test outputs/.ipynb_checkpoints/ (stored 0%)\n",
      "  adding: Max-Cut-Code/test outputs/.ipynb_checkpoints/2-35QVQE-checkpoint.png (deflated 4%)\n",
      "  adding: Max-Cut-Code/test outputs/.ipynb_checkpoints/4-12 node output-checkpoint.JPG (deflated 59%)\n",
      "  adding: Max-Cut-Code/test outputs/.ipynb_checkpoints/4-12 node output-checkpoint.txt (deflated 76%)\n",
      "  adding: Max-Cut-Code/test outputs/.ipynb_checkpoints/testing_code-checkpoint.ipynb (deflated 48%)\n",
      "  adding: Max-Cut-Code/test outputs/.ipynb_checkpoints/vqe-checkpoint.png (deflated 6%)\n",
      "  adding: Max-Cut-Code/test outputs/2-100qaoa.png (deflated 5%)\n",
      "  adding: Max-Cut-Code/test outputs/2-100vqe.png (deflated 5%)\n",
      "  adding: Max-Cut-Code/test outputs/2-15 node output.xlsx (deflated 5%)\n",
      "  adding: Max-Cut-Code/test outputs/2-35QAOA.png (deflated 3%)\n",
      "  adding: Max-Cut-Code/test outputs/2-35QVQE.png (deflated 4%)\n",
      "  adding: Max-Cut-Code/test outputs/4-12 node output.JPG (deflated 59%)\n",
      "  adding: Max-Cut-Code/test outputs/4-12 node output.txt (deflated 76%)\n",
      "  adding: Max-Cut-Code/test outputs/4-14 node output.xlsx (deflated 13%)\n",
      "  adding: Max-Cut-Code/test outputs/4-14 node output2.txt (deflated 77%)\n",
      "  adding: Max-Cut-Code/test outputs/5-12 node output.JPG (deflated 58%)\n",
      "  adding: Max-Cut-Code/test outputs/5-12 node output.txt (deflated 77%)\n",
      "  adding: Max-Cut-Code/test outputs/all.png (deflated 6%)\n",
      "  adding: Max-Cut-Code/test outputs/brute.png (deflated 5%)\n",
      "  adding: Max-Cut-Code/test outputs/qaoa.png (deflated 8%)\n",
      "  adding: Max-Cut-Code/test outputs/testing_code.ipynb (deflated 76%)\n",
      "  adding: Max-Cut-Code/test outputs/vqe.png (deflated 6%)\n",
      "  adding: Max-Cut-Code/testing_code.ipynb (deflated 79%)\n",
      "  adding: Max-Cut-Code/vqe/ (stored 0%)\n",
      "  adding: Max-Cut-Code/vqe/.ipynb_checkpoints/ (stored 0%)\n",
      "  adding: Max-Cut-Code/vqe/cycles/ (stored 0%)\n",
      "  adding: Max-Cut-Code/vqe/cycles/.ipynb_checkpoints/ (stored 0%)\n",
      "  adding: Max-Cut-Code/vqe/cycles/.ipynb_checkpoints/vqe_test_4_nodes-checkpoint.ipynb (deflated 84%)\n",
      "  adding: Max-Cut-Code/vqe/cycles/.ipynb_checkpoints/vqe_test_8_nodes-checkpoint.ipynb (deflated 86%)\n",
      "  adding: Max-Cut-Code/vqe/cycles/vqe_test_4_nodes.ipynb (deflated 68%)\n",
      "  adding: Max-Cut-Code/vqe/cycles/vqe_test_8_nodes.ipynb (deflated 86%)\n",
      "  adding: Max-Cut-Code/vqe/no cycles/ (stored 0%)\n",
      "  adding: Max-Cut-Code/vqe/no cycles/.ipynb_checkpoints/ (stored 0%)\n",
      "  adding: Max-Cut-Code/vqe/no cycles/.ipynb_checkpoints/vqe_test_4_nodes_no_cycle_test-checkpoint.ipynb (deflated 71%)\n",
      "  adding: Max-Cut-Code/vqe/no cycles/.ipynb_checkpoints/vqe_test_8_nodes_no_cycles_test-checkpoint.ipynb (deflated 86%)\n",
      "  adding: Max-Cut-Code/vqe/no cycles/vqe_test_4_nodes_no_cycle_test.ipynb (deflated 71%)\n",
      "  adding: Max-Cut-Code/vqe/no cycles/vqe_test_8_nodes_no_cycles_test.ipynb (deflated 70%)\n",
      "  adding: Max-Cut-Code/vqe/real/ (stored 0%)\n",
      "  adding: Max-Cut-Code/vqe/real/.ipynb_checkpoints/ (stored 0%)\n",
      "  adding: Max-Cut-Code/vqe/real/.ipynb_checkpoints/vqe_real_circuit_10110-checkpoint.txt (deflated 68%)\n",
      "  adding: Max-Cut-Code/vqe/real/.ipynb_checkpoints/vqe_test_template-checkpoint.ipynb (deflated 80%)\n",
      "  adding: Max-Cut-Code/vqe/real/vqe_real_circuit_10110.txt (deflated 68%)\n",
      "  adding: Max-Cut-Code/vqe/real/vqe_test_template.ipynb (deflated 82%)\n"
     ]
    }
   ],
   "source": [
    "# Converts max cut code folder into zip file so that you can download it to your local machine \n",
    "# and push it to GitHub.\n",
    "# Make sure this file is stored in the same directory but outside of the max cut folder.\n",
    "!zip -r MaxCutCode.zip Max-Cut-Code"
   ]
  },
  {
   "cell_type": "code",
   "execution_count": null,
   "id": "b4902864-f68a-44b4-ab49-99744de28cfd",
   "metadata": {},
   "outputs": [],
   "source": []
  }
 ],
 "metadata": {
  "kernelspec": {
   "display_name": "Python 3 (ipykernel)",
   "language": "python",
   "name": "python3"
  },
  "language_info": {
   "codemirror_mode": {
    "name": "ipython",
    "version": 3
   },
   "file_extension": ".py",
   "mimetype": "text/x-python",
   "name": "python",
   "nbconvert_exporter": "python",
   "pygments_lexer": "ipython3",
   "version": "3.8.13"
  },
  "widgets": {
   "application/vnd.jupyter.widget-state+json": {
    "state": {},
    "version_major": 2,
    "version_minor": 0
   }
  }
 },
 "nbformat": 4,
 "nbformat_minor": 5
}
