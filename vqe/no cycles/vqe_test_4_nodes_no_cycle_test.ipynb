{
 "cells": [
  {
   "cell_type": "markdown",
   "id": "2d0e1817-ca6d-4041-8e17-4366c03c3357",
   "metadata": {
    "tags": []
   },
   "source": [
    "## Random Graphs\n",
    "\n",
    "### Helper Functions\n",
    "\n",
    "Randomly generate an adjancency matrix..."
   ]
  },
  {
   "cell_type": "code",
   "execution_count": 1,
   "id": "3d21ad49-5223-4c18-9463-b6c5f2833e70",
   "metadata": {},
   "outputs": [],
   "source": [
    "import random\n",
    "import numpy as np\n",
    "import networkx as nx\n",
    "import matplotlib.pyplot as plt\n",
    "from itertools import combinations, groupby\n",
    "\n",
    "n = 4\n",
    "\n",
    "def random_row(row_num):\n",
    "    row = list(np.random.choice((0, 1, 2, 3, 4, 5),size=n))\n",
    "    \n",
    "    # No self-references\n",
    "    row[row_num] = 0 \n",
    "    \n",
    "    # Make sure there's no isolated nodes\n",
    "    if sum(row) == 0:\n",
    "        row = random_row(1)\n",
    "    return row\n",
    "\n",
    "def random_matrix():\n",
    "    rows = []\n",
    "    for i in range(0, n):\n",
    "        rows.append(random_row(1))\n",
    "    numpy_matrix = np.matrix(rows)\n",
    "    \n",
    "    return numpy_matrix\n",
    "\n",
    "def random_graph():\n",
    "    np_matrix = random_matrix()\n",
    "    g = nx.convert_matrix.from_numpy_matrix(\n",
    "        np_matrix, \n",
    "        parallel_edges=False, \n",
    "        create_using=nx.Graph\n",
    "    )\n",
    "    \n",
    "    # nx.draw(g, node_color='lightblue', \n",
    "    #     with_labels=True, \n",
    "    #     node_size=500)\n",
    "    \n",
    "    return g, np_matrix"
   ]
  },
  {
   "cell_type": "markdown",
   "id": "68bda6aa-477a-4eee-90ed-01e9e7afcd51",
   "metadata": {
    "tags": []
   },
   "source": [
    "### Brute Force"
   ]
  },
  {
   "cell_type": "code",
   "execution_count": 2,
   "id": "b2fef5ee-6f68-42e5-9071-696387f7e1be",
   "metadata": {},
   "outputs": [],
   "source": [
    "def brute_force(graph, w):\n",
    "\n",
    "    best_cost_brute = 0\n",
    "    for b in range(2**n):\n",
    "        x = [int(t) for t in reversed(list(bin(b)[2:].zfill(n)))]\n",
    "        cost = 0\n",
    "        for i in range(n):\n",
    "            for j in range(n):\n",
    "                cost = cost + w[i,j]*x[i]*(1-x[j])\n",
    "        if best_cost_brute < cost:\n",
    "            best_cost_brute = cost\n",
    "            xbest_brute = x\n",
    "        #print('case = ' + str(x)+ ' cost = ' + str(cost))\n",
    "\n",
    "    return xbest_brute, best_cost_brute"
   ]
  },
  {
   "cell_type": "markdown",
   "id": "60ab2ccb-a656-4242-a8ce-65b05c17fbf7",
   "metadata": {
    "tags": []
   },
   "source": [
    "### Variatonal Quantum EignSolver"
   ]
  },
  {
   "cell_type": "code",
   "execution_count": 3,
   "id": "8ff0fda5-f1ff-42ff-876a-f17e3d5e3148",
   "metadata": {},
   "outputs": [
    {
     "name": "stderr",
     "output_type": "stream",
     "text": [
      "<frozen importlib._bootstrap>:219: RuntimeWarning: scipy._lib.messagestream.MessageStream size changed, may indicate binary incompatibility. Expected 56 from C header, got 64 from PyObject\n"
     ]
    }
   ],
   "source": [
    "from qiskit import Aer\n",
    "from qiskit.tools.visualization import plot_histogram\n",
    "from qiskit.circuit.library import TwoLocal\n",
    "from qiskit_optimization.applications import Maxcut, Tsp\n",
    "from qiskit.algorithms import VQE, NumPyMinimumEigensolver\n",
    "from qiskit.algorithms.optimizers import SPSA, COBYLA\n",
    "from qiskit.utils import algorithm_globals, QuantumInstance\n",
    "from qiskit_optimization.algorithms import MinimumEigenOptimizer\n",
    "\n",
    "def vqe(w):\n",
    "    \n",
    "    # Define our Qiskit Maxcut Instance\n",
    "    max_cut = Maxcut(w)\n",
    "    qp = max_cut.to_quadratic_program()\n",
    "\n",
    "    # Translate to Ising Hamiltonian\n",
    "    qubitOp, offset = qp.to_ising()\n",
    "\n",
    "    # Setup our simulator\n",
    "    algorithm_globals.random_seed = 123\n",
    "    seed = 10598\n",
    "    backend = Aer.get_backend('aer_simulator_statevector')\n",
    "    quantum_instance = QuantumInstance(backend, seed_simulator=seed, seed_transpiler=seed)\n",
    "\n",
    "    # Construct VQE\n",
    "    spsa = SPSA(maxiter=300)\n",
    "    cobyla = COBYLA(maxiter=300)\n",
    "    ry = TwoLocal(qubitOp.num_qubits, 'ry', 'cz', reps=5, entanglement='linear')\n",
    "    vqe = VQE(ry, optimizer=spsa, quantum_instance=quantum_instance)\n",
    "\n",
    "    # Run VQE\n",
    "    result = vqe.compute_minimum_eigenvalue(qubitOp)\n",
    "    print(result)\n",
    "\n",
    "    # print results\n",
    "    bit_string = list(max_cut.sample_most_likely(result.eigenstate))\n",
    "    bit_string = map(int, bit_string)\n",
    "    # print('energy:', result.eigenvalue.real)\n",
    "    # print('time:', result.optimizer_time)\n",
    "    # print('max-cut objective:', result.eigenvalue.real + offset)\n",
    "    # print('solution:', bit_string)\n",
    "    # print('solution objective:', qp.objective.evaluate(bit_string))\n",
    "    \n",
    "    return bit_string, (result.eigenvalue.real + offset), result.optimizer_time"
   ]
  },
  {
   "cell_type": "code",
   "execution_count": 4,
   "id": "1225648c-a6ef-4b9d-b0ea-1f45df86617a",
   "metadata": {},
   "outputs": [
    {
     "name": "stdout",
     "output_type": "stream",
     "text": [
      "\n",
      "Brute Force: Best solution = 1100 | inverse[0011]  cost = 12.0\n",
      "{   'aux_operator_eigenvalues': None,\n",
      "    'cost_function_evals': 600,\n",
      "    'eigenstate': array([-3.17146395e-04+0.j,  3.07747588e-03+0.j, -2.82457451e-04+0.j,\n",
      "       -1.46665326e-05+0.j,  1.15264494e-04+0.j,  3.35095381e-03+0.j,\n",
      "        6.46841977e-02+0.j, -1.65962598e-03+0.j,  3.27670158e-03+0.j,\n",
      "        9.97759353e-01+0.j, -8.11917908e-05+0.j, -1.60613267e-03+0.j,\n",
      "       -1.17624289e-05+0.j,  3.58356653e-03+0.j, -1.48538520e-02+0.j,\n",
      "       -4.66679535e-03+0.j]),\n",
      "    'eigenvalue': (-4.998351993459096+0j),\n",
      "    'optimal_parameters': {   ParameterVectorElement(θ[0]): 2.98453641248967,\n",
      "                              ParameterVectorElement(θ[2]): -3.840731778514316,\n",
      "                              ParameterVectorElement(θ[3]): -5.108757876702927,\n",
      "                              ParameterVectorElement(θ[4]): -7.0816450605871735,\n",
      "                              ParameterVectorElement(θ[5]): 6.14826492695333,\n",
      "                              ParameterVectorElement(θ[6]): 6.168176656417265,\n",
      "                              ParameterVectorElement(θ[7]): -3.0970789823663014,\n",
      "                              ParameterVectorElement(θ[8]): 6.844950914726427,\n",
      "                              ParameterVectorElement(θ[9]): 4.831953419123113,\n",
      "                              ParameterVectorElement(θ[10]): -0.5197475288331651,\n",
      "                              ParameterVectorElement(θ[11]): -2.267503436711573,\n",
      "                              ParameterVectorElement(θ[12]): 5.714944161646723,\n",
      "                              ParameterVectorElement(θ[13]): -1.986996092062381,\n",
      "                              ParameterVectorElement(θ[14]): 3.186574833402292,\n",
      "                              ParameterVectorElement(θ[15]): 2.3994589987766157,\n",
      "                              ParameterVectorElement(θ[16]): 4.10328514529687,\n",
      "                              ParameterVectorElement(θ[17]): -3.7500903565856674,\n",
      "                              ParameterVectorElement(θ[18]): 3.0026699456506845,\n",
      "                              ParameterVectorElement(θ[19]): -2.361297328040997,\n",
      "                              ParameterVectorElement(θ[20]): -3.288458707541108,\n",
      "                              ParameterVectorElement(θ[1]): -3.871164322706621,\n",
      "                              ParameterVectorElement(θ[21]): -2.204667777057411,\n",
      "                              ParameterVectorElement(θ[22]): -3.175122788348018,\n",
      "                              ParameterVectorElement(θ[23]): 1.1701662806799606},\n",
      "    'optimal_point': array([ 2.98453641, -3.87116432, -3.84073178, -5.10875788, -7.08164506,\n",
      "        6.14826493,  6.16817666, -3.09707898,  6.84495091,  4.83195342,\n",
      "       -0.51974753, -2.26750344,  5.71494416, -1.98699609,  3.18657483,\n",
      "        2.399459  ,  4.10328515, -3.75009036,  3.00266995, -2.36129733,\n",
      "       -3.28845871, -2.20466778, -3.17512279,  1.17016628]),\n",
      "    'optimal_value': -4.998351993459096,\n",
      "    'optimizer_evals': None,\n",
      "    'optimizer_time': 3.029524564743042}\n",
      "VQE: Best solution = 1001 | inverse[0110]  cost = -11.998351993459096  3.029524564743042\n",
      "\n",
      "[[3. 1. 5. 1.]\n",
      " [1. 0. 1. 5.]\n",
      " [5. 1. 3. 1.]\n",
      " [1. 5. 1. 2.]]\n",
      "\n",
      "\n"
     ]
    }
   ],
   "source": [
    "# Generate 1,000 graphs\n",
    "success = 0\n",
    "failure = 0\n",
    "\n",
    "# TODO: Change the number of tests, ad hoc\n",
    "num_tests: int = 1\n",
    "\n",
    "for graph_id in range(num_tests):\n",
    "    # Generate Random Graph\n",
    "    graph, matrix = random_graph()\n",
    "    \n",
    "    # Computing the weight matrix from the random graph\n",
    "    w = np.zeros([n,n])\n",
    "    for i in range(n):\n",
    "        for j in range(n):\n",
    "            temp = graph.get_edge_data(i,j,default=0)\n",
    "            if temp != 0:\n",
    "                w[i,j] = temp['weight']\n",
    "    \n",
    "    bf_bit_string, bf_cost = brute_force(graph, w)\n",
    "    bf_x = ''.join(str(e) for e in bf_bit_string)\n",
    "    bf_x_inverse = ''.join('1' if x == '0' else '0' for x in bf_x)\n",
    "    print(f'\\nBrute Force: Best solution = {bf_x} | inverse[{bf_x_inverse}]  cost = {str(bf_cost)}')\n",
    "    \n",
    "    vqe_bit_string, vqe_cost, vqe_time = vqe(w)\n",
    "    vqe_x = ''.join(str(e) for e in vqe_bit_string)\n",
    "    vqe_x_inverse = ''.join('1' if x == '0' else '0' for x in vqe_x)\n",
    "    print(f'VQE: Best solution = {vqe_x} | inverse[{vqe_x_inverse}]  cost = {str(vqe_cost)}  {vqe_time}')\n",
    "    print()\n",
    "    print(w)\n",
    "    print()\n",
    "    print()\n",
    "    \n",
    "    # Check validity\n",
    "    if bf_x == vqe_x or bf_x == vqe_x_inverse or vqe_x == bf_x_inverse:\n",
    "        success += 1\n",
    "    else:\n",
    "        failure += 1"
   ]
  },
  {
   "cell_type": "code",
   "execution_count": 5,
   "id": "48b08745-51ce-40e4-afb0-e34a2c82278a",
   "metadata": {},
   "outputs": [
    {
     "name": "stdout",
     "output_type": "stream",
     "text": [
      "Success = 0\n",
      "Failures = 1\n"
     ]
    }
   ],
   "source": [
    "print(f\"Success = {success}\")\n",
    "print(f\"Failures = {failure}\")"
   ]
  },
  {
   "cell_type": "code",
   "execution_count": null,
   "id": "d791f7f7-5080-49f3-aa72-5c53c301c6c8",
   "metadata": {},
   "outputs": [],
   "source": []
  },
  {
   "cell_type": "code",
   "execution_count": null,
   "id": "88fee6f6-f254-4c70-8756-276ed0149743",
   "metadata": {},
   "outputs": [],
   "source": []
  },
  {
   "cell_type": "code",
   "execution_count": null,
   "id": "642335b5-00d4-4e6f-8ca8-dba664476542",
   "metadata": {},
   "outputs": [],
   "source": []
  },
  {
   "cell_type": "code",
   "execution_count": null,
   "id": "3f877bc1-dde3-4387-bc15-cc27ef0e3b8a",
   "metadata": {},
   "outputs": [],
   "source": []
  },
  {
   "cell_type": "code",
   "execution_count": null,
   "id": "e2a899bf-e2d8-4b5f-9bf4-16c991906c73",
   "metadata": {},
   "outputs": [],
   "source": []
  },
  {
   "cell_type": "code",
   "execution_count": null,
   "id": "71e02574-d93f-45e7-9361-002e2098ec6e",
   "metadata": {},
   "outputs": [],
   "source": []
  },
  {
   "cell_type": "code",
   "execution_count": null,
   "id": "ede3776e-4e4d-43b7-82e3-141490d2828c",
   "metadata": {},
   "outputs": [],
   "source": []
  }
 ],
 "metadata": {
  "kernelspec": {
   "display_name": "Qiskit v0.35.0 (ipykernel)",
   "language": "python",
   "name": "python3"
  },
  "language_info": {
   "codemirror_mode": {
    "name": "ipython",
    "version": 3
   },
   "file_extension": ".py",
   "mimetype": "text/x-python",
   "name": "python",
   "nbconvert_exporter": "python",
   "pygments_lexer": "ipython3",
   "version": "3.8.13"
  },
  "widgets": {
   "application/vnd.jupyter.widget-state+json": {
    "state": {},
    "version_major": 2,
    "version_minor": 0
   }
  }
 },
 "nbformat": 4,
 "nbformat_minor": 5
}
