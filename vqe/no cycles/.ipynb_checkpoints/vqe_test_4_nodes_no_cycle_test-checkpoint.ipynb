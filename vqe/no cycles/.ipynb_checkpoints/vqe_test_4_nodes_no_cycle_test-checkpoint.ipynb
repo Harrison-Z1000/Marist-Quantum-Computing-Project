{
 "cells": [
  {
   "cell_type": "markdown",
   "id": "2d0e1817-ca6d-4041-8e17-4366c03c3357",
   "metadata": {
    "tags": []
   },
   "source": [
    "## Random Graphs\n",
    "\n",
    "### Helper Functions\n",
    "\n",
    "Randomly generate an adjancency matrix..."
   ]
  },
  {
   "cell_type": "code",
   "execution_count": 7,
   "id": "3d21ad49-5223-4c18-9463-b6c5f2833e70",
   "metadata": {},
   "outputs": [],
   "source": [
    "import random\n",
    "import numpy as np\n",
    "import networkx as nx\n",
    "import matplotlib.pyplot as plt\n",
    "from itertools import combinations, groupby\n",
    "\n",
    "n = 4\n",
    "\n",
    "def random_row(row_num):\n",
    "    row = list(np.random.choice((0, 1, 2, 3, 4, 5),size=n))\n",
    "    \n",
    "    # No self-references\n",
    "    row[row_num] = 0 \n",
    "    \n",
    "    # Make sure there's no isolated nodes\n",
    "    if sum(row) == 0:\n",
    "        row = random_row(1)\n",
    "    return row\n",
    "\n",
    "def random_matrix():\n",
    "    rows = []\n",
    "    for i in range(0, n):\n",
    "        rows.append(random_row(1))\n",
    "    numpy_matrix = np.matrix(rows)\n",
    "    \n",
    "    return numpy_matrix\n",
    "\n",
    "def random_graph():\n",
    "    np_matrix = random_matrix()\n",
    "    g = nx.convert_matrix.from_numpy_matrix(\n",
    "        np_matrix, \n",
    "        parallel_edges=False, \n",
    "        create_using=nx.Graph\n",
    "    )\n",
    "    \n",
    "    # nx.draw(g, node_color='lightblue', \n",
    "    #     with_labels=True, \n",
    "    #     node_size=500)\n",
    "    \n",
    "    return g, np_matrix"
   ]
  },
  {
   "cell_type": "markdown",
   "id": "68bda6aa-477a-4eee-90ed-01e9e7afcd51",
   "metadata": {
    "tags": []
   },
   "source": [
    "### Brute Force"
   ]
  },
  {
   "cell_type": "code",
   "execution_count": 8,
   "id": "b2fef5ee-6f68-42e5-9071-696387f7e1be",
   "metadata": {},
   "outputs": [],
   "source": [
    "def brute_force(graph, w):\n",
    "\n",
    "    best_cost_brute = 0\n",
    "    for b in range(2**n):\n",
    "        x = [int(t) for t in reversed(list(bin(b)[2:].zfill(n)))]\n",
    "        cost = 0\n",
    "        for i in range(n):\n",
    "            for j in range(n):\n",
    "                cost = cost + w[i,j]*x[i]*(1-x[j])\n",
    "        if best_cost_brute < cost:\n",
    "            best_cost_brute = cost\n",
    "            xbest_brute = x\n",
    "        #print('case = ' + str(x)+ ' cost = ' + str(cost))\n",
    "\n",
    "    return xbest_brute, best_cost_brute"
   ]
  },
  {
   "cell_type": "markdown",
   "id": "60ab2ccb-a656-4242-a8ce-65b05c17fbf7",
   "metadata": {
    "tags": []
   },
   "source": [
    "### Variatonal Quantum EignSolver"
   ]
  },
  {
   "cell_type": "code",
   "execution_count": 14,
   "id": "8ff0fda5-f1ff-42ff-876a-f17e3d5e3148",
   "metadata": {},
   "outputs": [],
   "source": [
    "from qiskit import Aer\n",
    "from qiskit.tools.visualization import plot_histogram\n",
    "from qiskit.circuit.library import TwoLocal\n",
    "from qiskit_optimization.applications import Maxcut, Tsp\n",
    "from qiskit.algorithms import VQE, NumPyMinimumEigensolver\n",
    "from qiskit.algorithms.optimizers import SPSA, COBYLA\n",
    "from qiskit.utils import algorithm_globals, QuantumInstance\n",
    "from qiskit_optimization.algorithms import MinimumEigenOptimizer\n",
    "\n",
    "def vqe(w):\n",
    "    \n",
    "    # Define our Qiskit Maxcut Instance\n",
    "    max_cut = Maxcut(w)\n",
    "    qp = max_cut.to_quadratic_program()\n",
    "\n",
    "    # Translate to Ising Hamiltonian\n",
    "    qubitOp, offset = qp.to_ising()\n",
    "\n",
    "    # Setup our simulator\n",
    "    algorithm_globals.random_seed = 123\n",
    "    seed = 10598\n",
    "    backend = Aer.get_backend('aer_simulator_statevector')\n",
    "    quantum_instance = QuantumInstance(backend, seed_simulator=seed, seed_transpiler=seed)\n",
    "\n",
    "    # Construct VQE\n",
    "    spsa = SPSA(maxiter=300)\n",
    "    cobyla = COBYLA(maxiter=300)\n",
    "    ry = TwoLocal(qubitOp.num_qubits, 'ry', 'cz', reps=5, entanglement='linear')\n",
    "    vqe = VQE(ry, optimizer=spsa, quantum_instance=quantum_instance)\n",
    "\n",
    "    # Run VQE\n",
    "    result = vqe.compute_minimum_eigenvalue(qubitOp)\n",
    "    print(result)\n",
    "\n",
    "    # print results\n",
    "    bit_string = list(max_cut.sample_most_likely(result.eigenstate))\n",
    "    bit_string = map(int, bit_string)\n",
    "    # print('energy:', result.eigenvalue.real)\n",
    "    # print('time:', result.optimizer_time)\n",
    "    # print('max-cut objective:', result.eigenvalue.real + offset)\n",
    "    # print('solution:', bit_string)\n",
    "    # print('solution objective:', qp.objective.evaluate(bit_string))\n",
    "    \n",
    "    return bit_string, (result.eigenvalue.real + offset), result.optimizer_time"
   ]
  },
  {
   "cell_type": "code",
   "execution_count": 15,
   "id": "1225648c-a6ef-4b9d-b0ea-1f45df86617a",
   "metadata": {},
   "outputs": [
    {
     "name": "stdout",
     "output_type": "stream",
     "text": [
      "\n",
      "Brute Force: Best solution = 1010 | inverse[0101]  cost = 13.0\n",
      "{   'aux_operator_eigenvalues': None,\n",
      "    'cost_function_evals': 600,\n",
      "    'eigenstate': array([ 2.42437869e-05+0.j,  9.01782781e-04+0.j, -3.14450791e-03+0.j,\n",
      "       -1.79766426e-04+0.j, -4.48338601e-03+0.j, -1.67262816e-01+0.j,\n",
      "       -2.95743788e-03+0.j, -1.72902032e-04+0.j, -7.60461622e-04+0.j,\n",
      "        1.74535174e-03+0.j,  9.85802781e-01+0.j,  1.19783634e-02+0.j,\n",
      "        8.26796764e-04+0.j, -2.80107373e-04+0.j,  5.34272869e-03+0.j,\n",
      "        6.61665675e-05+0.j]),\n",
      "    'eigenvalue': (-5.49887185335962+0j),\n",
      "    'optimal_parameters': {   ParameterVectorElement(θ[0]): 0.04068916436207674,\n",
      "                              ParameterVectorElement(θ[9]): 5.637764280186716,\n",
      "                              ParameterVectorElement(θ[15]): 1.274737673439106,\n",
      "                              ParameterVectorElement(θ[16]): 3.2378340013240283,\n",
      "                              ParameterVectorElement(θ[14]): 1.7610071632902093,\n",
      "                              ParameterVectorElement(θ[6]): 7.71663995128562,\n",
      "                              ParameterVectorElement(θ[5]): 5.774858116745356,\n",
      "                              ParameterVectorElement(θ[8]): 6.625590006472371,\n",
      "                              ParameterVectorElement(θ[3]): -6.889153765466026,\n",
      "                              ParameterVectorElement(θ[4]): -5.643120262860022,\n",
      "                              ParameterVectorElement(θ[7]): -3.0521531283460925,\n",
      "                              ParameterVectorElement(θ[23]): 0.06979053889402971,\n",
      "                              ParameterVectorElement(θ[21]): -3.1085825757742294,\n",
      "                              ParameterVectorElement(θ[22]): -2.0375984260811335,\n",
      "                              ParameterVectorElement(θ[13]): -2.0759171684759927,\n",
      "                              ParameterVectorElement(θ[12]): 6.251084942355429,\n",
      "                              ParameterVectorElement(θ[10]): 1.1342347315496732,\n",
      "                              ParameterVectorElement(θ[11]): -3.109554039570397,\n",
      "                              ParameterVectorElement(θ[2]): -1.5447717023984524,\n",
      "                              ParameterVectorElement(θ[1]): -4.625175293002825,\n",
      "                              ParameterVectorElement(θ[19]): -1.3055842226940395,\n",
      "                              ParameterVectorElement(θ[18]): 0.7815328633521824,\n",
      "                              ParameterVectorElement(θ[20]): -2.602751710755011,\n",
      "                              ParameterVectorElement(θ[17]): -4.018807055195563},\n",
      "    'optimal_point': array([ 0.04068916, -4.62517529, -1.5447717 , -6.88915377, -5.64312026,\n",
      "        5.77485812,  7.71663995, -3.05215313,  6.62559001,  5.63776428,\n",
      "        1.13423473, -3.10955404,  6.25108494, -2.07591717,  1.76100716,\n",
      "        1.27473767,  3.237834  , -4.01880706,  0.78153286, -1.30558422,\n",
      "       -2.60275171, -3.10858258, -2.03759843,  0.06979054]),\n",
      "    'optimal_value': -5.49887185335962,\n",
      "    'optimizer_evals': None,\n",
      "    'optimizer_time': 2.7489864826202393}\n",
      "VQE: Best solution = 0101 | inverse[1010]  cost = -12.99887185335962  2.7489864826202393\n",
      "\n",
      "[[2. 2. 1. 4.]\n",
      " [2. 0. 3. 1.]\n",
      " [1. 3. 1. 4.]\n",
      " [4. 1. 4. 5.]]\n",
      "\n",
      "\n"
     ]
    }
   ],
   "source": [
    "# Generate 1,000 graphs\n",
    "success = 0\n",
    "failure = 0\n",
    "\n",
    "# TODO: Change the number of tests, ad hoc\n",
    "num_tests: int = 1\n",
    "\n",
    "for graph_id in range(num_tests):\n",
    "    # Generate Random Graph\n",
    "    graph, matrix = random_graph()\n",
    "    \n",
    "    # Computing the weight matrix from the random graph\n",
    "    w = np.zeros([n,n])\n",
    "    for i in range(n):\n",
    "        for j in range(n):\n",
    "            temp = graph.get_edge_data(i,j,default=0)\n",
    "            if temp != 0:\n",
    "                w[i,j] = temp['weight']\n",
    "    \n",
    "    bf_bit_string, bf_cost = brute_force(graph, w)\n",
    "    bf_x = ''.join(str(e) for e in bf_bit_string)\n",
    "    bf_x_inverse = ''.join('1' if x == '0' else '0' for x in bf_x)\n",
    "    print(f'\\nBrute Force: Best solution = {bf_x} | inverse[{bf_x_inverse}]  cost = {str(bf_cost)}')\n",
    "    \n",
    "    vqe_bit_string, vqe_cost, vqe_time = vqe(w)\n",
    "    vqe_x = ''.join(str(e) for e in vqe_bit_string)\n",
    "    vqe_x_inverse = ''.join('1' if x == '0' else '0' for x in vqe_x)\n",
    "    print(f'VQE: Best solution = {vqe_x} | inverse[{vqe_x_inverse}]  cost = {str(vqe_cost)}  {vqe_time}')\n",
    "    print()\n",
    "    print(w)\n",
    "    print()\n",
    "    print()\n",
    "    \n",
    "    # Check validity\n",
    "    if bf_x == vqe_x or bf_x == vqe_x_inverse or vqe_x == bf_x_inverse:\n",
    "        success += 1\n",
    "    else:\n",
    "        failure += 1"
   ]
  },
  {
   "cell_type": "code",
   "execution_count": 5,
   "id": "48b08745-51ce-40e4-afb0-e34a2c82278a",
   "metadata": {},
   "outputs": [
    {
     "name": "stdout",
     "output_type": "stream",
     "text": [
      "Success = 80\n",
      "Failures = 20\n"
     ]
    }
   ],
   "source": [
    "print(f\"Success = {success}\")\n",
    "print(f\"Failures = {failure}\")"
   ]
  },
  {
   "cell_type": "code",
   "execution_count": null,
   "id": "d791f7f7-5080-49f3-aa72-5c53c301c6c8",
   "metadata": {},
   "outputs": [],
   "source": []
  },
  {
   "cell_type": "code",
   "execution_count": null,
   "id": "88fee6f6-f254-4c70-8756-276ed0149743",
   "metadata": {},
   "outputs": [],
   "source": []
  },
  {
   "cell_type": "code",
   "execution_count": null,
   "id": "642335b5-00d4-4e6f-8ca8-dba664476542",
   "metadata": {},
   "outputs": [],
   "source": []
  },
  {
   "cell_type": "code",
   "execution_count": null,
   "id": "3f877bc1-dde3-4387-bc15-cc27ef0e3b8a",
   "metadata": {},
   "outputs": [],
   "source": []
  },
  {
   "cell_type": "code",
   "execution_count": null,
   "id": "e2a899bf-e2d8-4b5f-9bf4-16c991906c73",
   "metadata": {},
   "outputs": [],
   "source": []
  },
  {
   "cell_type": "code",
   "execution_count": null,
   "id": "71e02574-d93f-45e7-9361-002e2098ec6e",
   "metadata": {},
   "outputs": [],
   "source": []
  },
  {
   "cell_type": "code",
   "execution_count": null,
   "id": "ede3776e-4e4d-43b7-82e3-141490d2828c",
   "metadata": {},
   "outputs": [],
   "source": []
  }
 ],
 "metadata": {
  "kernelspec": {
   "display_name": "Qiskit v0.31.0 (ipykernel)",
   "language": "python",
   "name": "python3"
  },
  "language_info": {
   "codemirror_mode": {
    "name": "ipython",
    "version": 3
   },
   "file_extension": ".py",
   "mimetype": "text/x-python",
   "name": "python",
   "nbconvert_exporter": "python",
   "pygments_lexer": "ipython3",
   "version": "3.8.10"
  },
  "widgets": {
   "application/vnd.jupyter.widget-state+json": {
    "state": {},
    "version_major": 2,
    "version_minor": 0
   }
  }
 },
 "nbformat": 4,
 "nbformat_minor": 5
}
