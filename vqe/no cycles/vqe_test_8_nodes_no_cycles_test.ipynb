{
 "cells": [
  {
   "cell_type": "markdown",
   "id": "2d0e1817-ca6d-4041-8e17-4366c03c3357",
   "metadata": {
    "tags": []
   },
   "source": [
    "## Random Graphs\n",
    "\n",
    "### Helper Functions\n",
    "\n",
    "Randomly generate an adjancency matrix..."
   ]
  },
  {
   "cell_type": "code",
   "execution_count": 5,
   "id": "3d21ad49-5223-4c18-9463-b6c5f2833e70",
   "metadata": {},
   "outputs": [],
   "source": [
    "import timeit\n",
    "import random\n",
    "import numpy as np\n",
    "import networkx as nx\n",
    "import matplotlib.pyplot as plt\n",
    "from itertools import combinations, groupby\n",
    "\n",
    "# Size of NxN Matrix\n",
    "n = 8\n",
    "\n",
    "# Moved to global scopee to allow for timing\n",
    "bf_bit_string, bf_cost = None, None\n",
    "\n",
    "def random_row():\n",
    "    row = list(np.random.choice((0, 1, 2, 3, 4, 5),size=n))\n",
    "    \n",
    "    # No self-references\n",
    "    row[row_num] = 0 \n",
    "    \n",
    "    # Make sure there's no isolated nodes\n",
    "    if sum(row) == 0:\n",
    "        row = random_row()\n",
    "    return row\n",
    "\n",
    "def random_matrix():\n",
    "    rows = []\n",
    "    for i in range(0, n):\n",
    "        rows.append(random_row())\n",
    "    numpy_matrix = np.matrix(rows)\n",
    "    \n",
    "    return numpy_matrix\n",
    "\n",
    "def random_graph():\n",
    "    np_matrix = random_matrix()\n",
    "    g = nx.convert_matrix.from_numpy_matrix(\n",
    "        np_matrix, \n",
    "        parallel_edges=False, \n",
    "        create_using=nx.Graph\n",
    "    )\n",
    "    \n",
    "    # nx.draw(g, node_color='lightblue', \n",
    "    #     with_labels=True, \n",
    "    #     node_size=500)\n",
    "    \n",
    "    return g, np_matrix"
   ]
  },
  {
   "cell_type": "markdown",
   "id": "68bda6aa-477a-4eee-90ed-01e9e7afcd51",
   "metadata": {
    "tags": []
   },
   "source": [
    "### Brute Force"
   ]
  },
  {
   "cell_type": "code",
   "execution_count": 6,
   "id": "b2fef5ee-6f68-42e5-9071-696387f7e1be",
   "metadata": {},
   "outputs": [],
   "source": [
    "def brute_force(graph, w):\n",
    "    global bf_bit_string\n",
    "    global bf_cost\n",
    "    \n",
    "    bf_bit_string = None\n",
    "    bf_cost = None\n",
    "    \n",
    "    best_cost_brute = 0\n",
    "    for b in range(2**n):\n",
    "        x = [int(t) for t in reversed(list(bin(b)[2:].zfill(n)))]\n",
    "        cost = 0\n",
    "        for i in range(n):\n",
    "            for j in range(n):\n",
    "                cost = cost + w[i,j]*x[i]*(1-x[j])\n",
    "        if best_cost_brute < cost:\n",
    "            best_cost_brute = cost\n",
    "            xbest_brute = x\n",
    "    bf_bit_string = xbest_brute\n",
    "    bf_cost = best_cost_brute\n",
    "    return xbest_brute, best_cost_brute"
   ]
  },
  {
   "cell_type": "markdown",
   "id": "60ab2ccb-a656-4242-a8ce-65b05c17fbf7",
   "metadata": {
    "tags": []
   },
   "source": [
    "### Variatonal Quantum EignSolver"
   ]
  },
  {
   "cell_type": "code",
   "execution_count": 7,
   "id": "8ff0fda5-f1ff-42ff-876a-f17e3d5e3148",
   "metadata": {},
   "outputs": [],
   "source": [
    "from qiskit import Aer\n",
    "from qiskit.tools.visualization import plot_histogram\n",
    "from qiskit.circuit.library import TwoLocal\n",
    "from qiskit_optimization.applications import Maxcut, Tsp\n",
    "from qiskit.algorithms import VQE, NumPyMinimumEigensolver\n",
    "from qiskit.algorithms.optimizers import SPSA, COBYLA\n",
    "from qiskit.utils import algorithm_globals, QuantumInstance\n",
    "from qiskit_optimization.algorithms import MinimumEigenOptimizer\n",
    "\n",
    "def vqe(w):\n",
    "    # Define our Qiskit Maxcut Instance\n",
    "    max_cut = Maxcut(w)\n",
    "    qp = max_cut.to_quadratic_program()\n",
    "\n",
    "    # Translate to Ising Hamiltonian\n",
    "    qubitOp, offset = qp.to_ising()\n",
    "\n",
    "    # Setup our simulator\n",
    "    algorithm_globals.random_seed = 123\n",
    "    seed = 10598\n",
    "    backend = Aer.get_backend('aer_simulator_statevector')\n",
    "    quantum_instance = QuantumInstance(backend, seed_simulator=seed, seed_transpiler=seed)\n",
    "\n",
    "    # Construct VQE\n",
    "    spsa = SPSA(maxiter=300)\n",
    "    cobyla = COBYLA(maxiter=300)\n",
    "    ry = TwoLocal(qubitOp.num_qubits, 'ry', 'cz', reps=5, entanglement='linear')\n",
    "    vqe = VQE(ry, optimizer=spsa, quantum_instance=quantum_instance)\n",
    "\n",
    "    # Run VQE\n",
    "    compute_min_eigenval_time = timeit.timeit(lambda: vqe.compute_minimum_eigenvalue(qubitOp), number=1)\n",
    "    result = vqe.compute_minimum_eigenvalue(qubitOp)\n",
    "\n",
    "    # print results\n",
    "    bit_string = list(max_cut.sample_most_likely(result.eigenstate))\n",
    "    bit_string = map(int, bit_string)\n",
    "    # print('energy:', result.eigenvalue.real)\n",
    "    # print('time:', result.optimizer_time)\n",
    "    # print('max-cut objective:', result.eigenvalue.real + offset)\n",
    "    # print('solution:', bit_string)\n",
    "    # print('solution objective:', qp.objective.evaluate(bit_string))\n",
    "    \n",
    "    return bit_string, (result.eigenvalue.real + offset), result.optimizer_time, compute_min_eigenval_time"
   ]
  },
  {
   "cell_type": "markdown",
   "id": "dc2f7b0e-aa34-488f-9cf1-f2e12f44209d",
   "metadata": {},
   "source": [
    "## Tests"
   ]
  },
  {
   "cell_type": "code",
   "execution_count": 8,
   "id": "1225648c-a6ef-4b9d-b0ea-1f45df86617a",
   "metadata": {},
   "outputs": [
    {
     "name": "stdout",
     "output_type": "stream",
     "text": [
      "Traceback \u001b[1;36m(most recent call last)\u001b[0m:\n",
      "  Input \u001b[0;32mIn [8]\u001b[0m in \u001b[0;35m<cell line: 8>\u001b[0m\n",
      "    graph, matrix = random_graph()\n",
      "  Input \u001b[0;32mIn [5]\u001b[0m in \u001b[0;35mrandom_graph\u001b[0m\n",
      "    np_matrix = random_matrix()\n",
      "  Input \u001b[0;32mIn [5]\u001b[0m in \u001b[0;35mrandom_matrix\u001b[0m\n",
      "    rows.append(random_row())\n",
      "\u001b[1;36m  Input \u001b[1;32mIn [5]\u001b[1;36m in \u001b[1;35mrandom_row\u001b[1;36m\u001b[0m\n",
      "\u001b[1;33m    row[row_num] = 0\u001b[0m\n",
      "\u001b[1;31mNameError\u001b[0m\u001b[1;31m:\u001b[0m name 'row_num' is not defined\n",
      "\n",
      "Use %tb to get the full traceback.\n"
     ]
    },
    {
     "data": {
      "text/html": [
       "\n",
       "<style>\n",
       ".button {\n",
       "  border: none;\n",
       "  color: white;\n",
       "  padding: 4px 8px;\n",
       "  text-align: center;\n",
       "  text-decoration: none;\n",
       "  display: inline-block;\n",
       "  font-size: 12px;\n",
       "  margin: 4px 2px;\n",
       "  transition-duration: 0.2s;\n",
       "  cursor: pointer;\n",
       "}\n",
       ".iqx-button {\n",
       "  background-color: #0f62fe; \n",
       "  color: white; \n",
       "}\n",
       ".iqx-button:hover {\n",
       "  background-color: #0043ce;\n",
       "  color: white;\n",
       "}\n",
       "</style>\n",
       "<a href=\"https://stackoverflow.com/search?q=NameError: name 'row_num' is not defined\" target='_blank'><button class='button iqx-button'>Search for solution online</button></a>\n"
      ],
      "text/plain": [
       "<IPython.core.display.HTML object>"
      ]
     },
     "metadata": {},
     "output_type": "display_data"
    }
   ],
   "source": [
    "# Generate 1,000 graphs\n",
    "success = 0\n",
    "failure = 0\n",
    "\n",
    "# TODO: Change the number of tests, ad hoc\n",
    "num_tests: int = 100\n",
    "\n",
    "for graph_id in range(num_tests):\n",
    "    global bf_bit_string\n",
    "    global bf_cost\n",
    "    \n",
    "    # Generate Random Graph\n",
    "    graph, matrix = random_graph()\n",
    "    \n",
    "    # Computing the weight matrix from the random graph\n",
    "    w = np.zeros([n,n])\n",
    "    for i in range(n):\n",
    "        for j in range(n):\n",
    "            temp = graph.get_edge_data(i,j,default=0)\n",
    "            if temp != 0:\n",
    "                w[i,j] = temp['weight']\n",
    "    \n",
    "    print(f'\\nTest Case {graph_id}: ')\n",
    "    print('------------' + '-' * (graph_id * 2))\n",
    "    print()\n",
    "    print(w)\n",
    "    \n",
    "    # Brute Force Approach\n",
    "    #\n",
    "    # Time brute force algorithm\n",
    "    bf_time: float = timeit.timeit(lambda: brute_force(graph, w), number=1)\n",
    "    \n",
    "    # Parse the bit sting answer\n",
    "    bf_x = ''.join(str(e) for e in bf_bit_string)\n",
    "    bf_x_inverse = ''.join('1' if x == '0' else '0' for x in bf_x)\n",
    "    \n",
    "    # Print results\n",
    "    print('\\n\\tBrute Force')\n",
    "    print(f'\\t\\tSolution = {bf_x} [{bf_x_inverse}].')\n",
    "    print(f'\\t\\tMaxcut = {str(bf_cost)}.')\n",
    "    print(f'\\t\\tTime: {bf_time} seconds.')\n",
    "    \n",
    "    # VQE Approach\n",
    "    #\n",
    "    #\n",
    "    vqe_bit_string, vqe_cost, optimizer_time, compute_minimum_eigenvalue_time = vqe(w)\n",
    "    \n",
    "    # Parse the bit sting answer\n",
    "    vqe_x = ''.join(str(e) for e in vqe_bit_string)\n",
    "    vqe_x_inverse = ''.join('1' if x == '0' else '0' for x in vqe_x)\n",
    "    \n",
    "    # Print results\n",
    "    print('\\n\\tVariation Quantum Eignsolver (VQE):')\n",
    "    print(f'\\t\\tSolution = {vqe_x} [{vqe_x_inverse}].')\n",
    "    print(f'\\t\\tMaxcut = {str(vqe_cost)}.')\n",
    "    print(f'\\t\\tOptimizer Time: {str(optimizer_time)} seconds.')\n",
    "    print(f'\\t\\tCompmute Minimum Eigenvalue Time: {str(optimizer_time)} seconds.')\n",
    "    print()\n",
    "    \n",
    "    # Check validity\n",
    "    if bf_x == vqe_x or bf_x == vqe_x_inverse or vqe_x == bf_x_inverse:\n",
    "        success += 1\n",
    "    else:\n",
    "        failure += 1"
   ]
  },
  {
   "cell_type": "code",
   "execution_count": 9,
   "id": "eec6a8e1-8223-45ec-8513-2bb41db1ef62",
   "metadata": {},
   "outputs": [
    {
     "name": "stdout",
     "output_type": "stream",
     "text": [
      "Success: 0 / 100 = 0.0 %\n",
      "Fail: 0 / 100 = 0.0 %\n"
     ]
    }
   ],
   "source": [
    "print(f'Success: {success} / {num_tests} = {(success/num_tests) * 100} %')\n",
    "print(f'Fail: {failure} / {num_tests} = {(failure/num_tests) * 100} %')"
   ]
  },
  {
   "cell_type": "code",
   "execution_count": null,
   "id": "cb1f789d-0c02-4d16-9ecd-0286cfe0ea72",
   "metadata": {},
   "outputs": [],
   "source": []
  }
 ],
 "metadata": {
  "kernelspec": {
   "display_name": "Qiskit v0.35.0 (ipykernel)",
   "language": "python",
   "name": "python3"
  },
  "language_info": {
   "codemirror_mode": {
    "name": "ipython",
    "version": 3
   },
   "file_extension": ".py",
   "mimetype": "text/x-python",
   "name": "python",
   "nbconvert_exporter": "python",
   "pygments_lexer": "ipython3",
   "version": "3.8.13"
  },
  "widgets": {
   "application/vnd.jupyter.widget-state+json": {
    "state": {},
    "version_major": 2,
    "version_minor": 0
   }
  }
 },
 "nbformat": 4,
 "nbformat_minor": 5
}
